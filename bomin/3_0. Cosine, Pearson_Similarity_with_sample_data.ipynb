{
 "cells": [
  {
   "cell_type": "code",
   "execution_count": 1,
   "metadata": {},
   "outputs": [],
   "source": [
    "import pandas as pd\n",
    "import numpy as np\n",
    "\n",
    "import warnings\n",
    "warnings.filterwarnings('ignore')"
   ]
  },
  {
   "cell_type": "code",
   "execution_count": 2,
   "metadata": {},
   "outputs": [],
   "source": [
    "import math"
   ]
  },
  {
   "cell_type": "markdown",
   "metadata": {},
   "source": [
    "# sample 데이터 셋팅"
   ]
  },
  {
   "cell_type": "code",
   "execution_count": 3,
   "metadata": {
    "scrolled": false
   },
   "outputs": [
    {
     "data": {
      "text/html": [
       "<div>\n",
       "<style scoped>\n",
       "    .dataframe tbody tr th:only-of-type {\n",
       "        vertical-align: middle;\n",
       "    }\n",
       "\n",
       "    .dataframe tbody tr th {\n",
       "        vertical-align: top;\n",
       "    }\n",
       "\n",
       "    .dataframe thead th {\n",
       "        text-align: right;\n",
       "    }\n",
       "</style>\n",
       "<table border=\"1\" class=\"dataframe\">\n",
       "  <thead>\n",
       "    <tr style=\"text-align: right;\">\n",
       "      <th></th>\n",
       "      <th>userId</th>\n",
       "      <th>movieId</th>\n",
       "      <th>rating</th>\n",
       "    </tr>\n",
       "  </thead>\n",
       "  <tbody>\n",
       "    <tr>\n",
       "      <td>0</td>\n",
       "      <td>0</td>\n",
       "      <td>1</td>\n",
       "      <td>3.5</td>\n",
       "    </tr>\n",
       "    <tr>\n",
       "      <td>1</td>\n",
       "      <td>0</td>\n",
       "      <td>2</td>\n",
       "      <td>4.5</td>\n",
       "    </tr>\n",
       "    <tr>\n",
       "      <td>2</td>\n",
       "      <td>0</td>\n",
       "      <td>3</td>\n",
       "      <td>5.0</td>\n",
       "    </tr>\n",
       "    <tr>\n",
       "      <td>3</td>\n",
       "      <td>0</td>\n",
       "      <td>4</td>\n",
       "      <td>4.0</td>\n",
       "    </tr>\n",
       "    <tr>\n",
       "      <td>4</td>\n",
       "      <td>0</td>\n",
       "      <td>6</td>\n",
       "      <td>1.0</td>\n",
       "    </tr>\n",
       "    <tr>\n",
       "      <td>5</td>\n",
       "      <td>1</td>\n",
       "      <td>0</td>\n",
       "      <td>4.5</td>\n",
       "    </tr>\n",
       "    <tr>\n",
       "      <td>6</td>\n",
       "      <td>1</td>\n",
       "      <td>2</td>\n",
       "      <td>5.0</td>\n",
       "    </tr>\n",
       "    <tr>\n",
       "      <td>7</td>\n",
       "      <td>1</td>\n",
       "      <td>3</td>\n",
       "      <td>5.0</td>\n",
       "    </tr>\n",
       "    <tr>\n",
       "      <td>8</td>\n",
       "      <td>1</td>\n",
       "      <td>5</td>\n",
       "      <td>4.0</td>\n",
       "    </tr>\n",
       "    <tr>\n",
       "      <td>9</td>\n",
       "      <td>1</td>\n",
       "      <td>6</td>\n",
       "      <td>0.5</td>\n",
       "    </tr>\n",
       "    <tr>\n",
       "      <td>10</td>\n",
       "      <td>2</td>\n",
       "      <td>1</td>\n",
       "      <td>4.0</td>\n",
       "    </tr>\n",
       "    <tr>\n",
       "      <td>11</td>\n",
       "      <td>2</td>\n",
       "      <td>2</td>\n",
       "      <td>2.0</td>\n",
       "    </tr>\n",
       "    <tr>\n",
       "      <td>12</td>\n",
       "      <td>2</td>\n",
       "      <td>3</td>\n",
       "      <td>1.0</td>\n",
       "    </tr>\n",
       "    <tr>\n",
       "      <td>13</td>\n",
       "      <td>2</td>\n",
       "      <td>5</td>\n",
       "      <td>4.5</td>\n",
       "    </tr>\n",
       "    <tr>\n",
       "      <td>14</td>\n",
       "      <td>3</td>\n",
       "      <td>1</td>\n",
       "      <td>3.5</td>\n",
       "    </tr>\n",
       "    <tr>\n",
       "      <td>15</td>\n",
       "      <td>3</td>\n",
       "      <td>4</td>\n",
       "      <td>3.0</td>\n",
       "    </tr>\n",
       "    <tr>\n",
       "      <td>16</td>\n",
       "      <td>3</td>\n",
       "      <td>5</td>\n",
       "      <td>4.0</td>\n",
       "    </tr>\n",
       "    <tr>\n",
       "      <td>17</td>\n",
       "      <td>3</td>\n",
       "      <td>6</td>\n",
       "      <td>2.0</td>\n",
       "    </tr>\n",
       "    <tr>\n",
       "      <td>18</td>\n",
       "      <td>4</td>\n",
       "      <td>3</td>\n",
       "      <td>5.0</td>\n",
       "    </tr>\n",
       "    <tr>\n",
       "      <td>19</td>\n",
       "      <td>4</td>\n",
       "      <td>4</td>\n",
       "      <td>4.5</td>\n",
       "    </tr>\n",
       "  </tbody>\n",
       "</table>\n",
       "</div>"
      ],
      "text/plain": [
       "    userId  movieId  rating\n",
       "0        0        1     3.5\n",
       "1        0        2     4.5\n",
       "2        0        3     5.0\n",
       "3        0        4     4.0\n",
       "4        0        6     1.0\n",
       "5        1        0     4.5\n",
       "6        1        2     5.0\n",
       "7        1        3     5.0\n",
       "8        1        5     4.0\n",
       "9        1        6     0.5\n",
       "10       2        1     4.0\n",
       "11       2        2     2.0\n",
       "12       2        3     1.0\n",
       "13       2        5     4.5\n",
       "14       3        1     3.5\n",
       "15       3        4     3.0\n",
       "16       3        5     4.0\n",
       "17       3        6     2.0\n",
       "18       4        3     5.0\n",
       "19       4        4     4.5"
      ]
     },
     "execution_count": 3,
     "metadata": {},
     "output_type": "execute_result"
    }
   ],
   "source": [
    "# 우리강의 샘플 데이터\n",
    "raw_sample = pd.DataFrame([[0,1,3.5],[0,2,4.5],[0,3,5],[0,4,4], [0,6,1]\n",
    "                           ,[1,0,4.5],[1,2,5],[1,3,5], [1,5,4], [1,6,0.5]\n",
    "                           ,[2,1,4],[2,2,2],[2,3,1], [2,5,4.5]\n",
    "                           ,[3,1,3.5],[3,4,3], [3,5,4], [3,6,2]\n",
    "                           , [4,3,5],[4,4,4.5]], columns=['userId', 'movieId', 'rating'])\n",
    "\n",
    "raw_sample"
   ]
  },
  {
   "cell_type": "code",
   "execution_count": 4,
   "metadata": {
    "scrolled": true
   },
   "outputs": [],
   "source": [
    "# raw_sample = raw_sample[raw_sample['movieId'].isin([0,1,2,3,4,5,6])]\n",
    "# raw_sample"
   ]
  },
  {
   "cell_type": "code",
   "execution_count": 5,
   "metadata": {
    "scrolled": true
   },
   "outputs": [
    {
     "data": {
      "text/html": [
       "<div>\n",
       "<style scoped>\n",
       "    .dataframe tbody tr th:only-of-type {\n",
       "        vertical-align: middle;\n",
       "    }\n",
       "\n",
       "    .dataframe tbody tr th {\n",
       "        vertical-align: top;\n",
       "    }\n",
       "\n",
       "    .dataframe thead th {\n",
       "        text-align: right;\n",
       "    }\n",
       "</style>\n",
       "<table border=\"1\" class=\"dataframe\">\n",
       "  <thead>\n",
       "    <tr style=\"text-align: right;\">\n",
       "      <th>userId</th>\n",
       "      <th>0</th>\n",
       "      <th>1</th>\n",
       "      <th>2</th>\n",
       "      <th>3</th>\n",
       "      <th>4</th>\n",
       "    </tr>\n",
       "    <tr>\n",
       "      <th>movieId</th>\n",
       "      <th></th>\n",
       "      <th></th>\n",
       "      <th></th>\n",
       "      <th></th>\n",
       "      <th></th>\n",
       "    </tr>\n",
       "  </thead>\n",
       "  <tbody>\n",
       "    <tr>\n",
       "      <td>0</td>\n",
       "      <td>NaN</td>\n",
       "      <td>4.5</td>\n",
       "      <td>NaN</td>\n",
       "      <td>NaN</td>\n",
       "      <td>NaN</td>\n",
       "    </tr>\n",
       "    <tr>\n",
       "      <td>1</td>\n",
       "      <td>3.5</td>\n",
       "      <td>NaN</td>\n",
       "      <td>4.0</td>\n",
       "      <td>3.5</td>\n",
       "      <td>NaN</td>\n",
       "    </tr>\n",
       "    <tr>\n",
       "      <td>2</td>\n",
       "      <td>4.5</td>\n",
       "      <td>5.0</td>\n",
       "      <td>2.0</td>\n",
       "      <td>NaN</td>\n",
       "      <td>NaN</td>\n",
       "    </tr>\n",
       "    <tr>\n",
       "      <td>3</td>\n",
       "      <td>5.0</td>\n",
       "      <td>5.0</td>\n",
       "      <td>1.0</td>\n",
       "      <td>NaN</td>\n",
       "      <td>5.0</td>\n",
       "    </tr>\n",
       "    <tr>\n",
       "      <td>4</td>\n",
       "      <td>4.0</td>\n",
       "      <td>NaN</td>\n",
       "      <td>NaN</td>\n",
       "      <td>3.0</td>\n",
       "      <td>4.5</td>\n",
       "    </tr>\n",
       "    <tr>\n",
       "      <td>5</td>\n",
       "      <td>NaN</td>\n",
       "      <td>4.0</td>\n",
       "      <td>4.5</td>\n",
       "      <td>4.0</td>\n",
       "      <td>NaN</td>\n",
       "    </tr>\n",
       "    <tr>\n",
       "      <td>6</td>\n",
       "      <td>1.0</td>\n",
       "      <td>0.5</td>\n",
       "      <td>NaN</td>\n",
       "      <td>2.0</td>\n",
       "      <td>NaN</td>\n",
       "    </tr>\n",
       "  </tbody>\n",
       "</table>\n",
       "</div>"
      ],
      "text/plain": [
       "userId     0    1    2    3    4\n",
       "movieId                         \n",
       "0        NaN  4.5  NaN  NaN  NaN\n",
       "1        3.5  NaN  4.0  3.5  NaN\n",
       "2        4.5  5.0  2.0  NaN  NaN\n",
       "3        5.0  5.0  1.0  NaN  5.0\n",
       "4        4.0  NaN  NaN  3.0  4.5\n",
       "5        NaN  4.0  4.5  4.0  NaN\n",
       "6        1.0  0.5  NaN  2.0  NaN"
      ]
     },
     "execution_count": 5,
     "metadata": {},
     "output_type": "execute_result"
    }
   ],
   "source": [
    "ui_metrix = raw_sample.set_index(['movieId', 'userId']).unstack()['rating']\n",
    "ui_metrix"
   ]
  },
  {
   "cell_type": "code",
   "execution_count": 6,
   "metadata": {},
   "outputs": [
    {
     "data": {
      "text/plain": [
       "movieId\n",
       "0     NaN\n",
       "1     NaN\n",
       "2     NaN\n",
       "3    0.25\n",
       "4   -0.25\n",
       "5     NaN\n",
       "6     NaN\n",
       "Name: 4, dtype: float64"
      ]
     },
     "execution_count": 6,
     "metadata": {},
     "output_type": "execute_result"
    }
   ],
   "source": [
    "ui_metrix[4] - ui_metrix[4].mean()"
   ]
  },
  {
   "cell_type": "markdown",
   "metadata": {},
   "source": [
    "# 코사인 유사도"
   ]
  },
  {
   "cell_type": "markdown",
   "metadata": {},
   "source": [
    "## 1. 위키피디아 ver"
   ]
  },
  {
   "cell_type": "code",
   "execution_count": 7,
   "metadata": {},
   "outputs": [],
   "source": [
    "# 위키피디아 코사인 유사도 구현\n",
    "def cosine_m(u, v):\n",
    "    u_ratings = ui_metrix[u]\n",
    "    v_ratings = ui_metrix[v]\n",
    "    \n",
    "    u_items = set(u_ratings[u_ratings.notna()].index)\n",
    "    v_items = set(v_ratings[v_ratings.notna()].index)\n",
    "    commons = list(u_items & v_items)\n",
    "    \n",
    "    uv_dot = np.dot(u_ratings[commons], v_ratings[commons])\n",
    "    ab_length_multiply = math.sqrt(sum(i**2 for i in u_ratings.fillna(0)))*math.sqrt(sum(i**2 for i in v_ratings.fillna(0)))\n",
    "    \n",
    "    \n",
    "#     print(u_ratings[u_ratings.notna()].index)\n",
    "#     print(u_items)\n",
    "#     print(ui_metrix[u_ratings.notna()])\n",
    "#     print(commons)\n",
    "    print(uv_dot)\n",
    "    print(ab_length_multiply)\n",
    "    \n",
    "    return uv_dot/ab_length_multiply"
   ]
  },
  {
   "cell_type": "code",
   "execution_count": 8,
   "metadata": {},
   "outputs": [
    {
     "name": "stdout",
     "output_type": "stream",
     "text": [
      "48.0\n",
      "80.27608610289866\n",
      "Cosine_sim(1,0) : 0.5979364756083542\n",
      "86.5\n",
      "86.5\n",
      "Cosine_sim(1,1) : 1.0\n",
      "33.0\n",
      "59.733784410499226\n",
      "Cosine_sim(1,2) : 0.5524511852994147\n",
      "17.0\n",
      "59.733784410499226\n",
      "Cosine_sim(1,3) : 0.28459606515424396\n",
      "25.0\n",
      "62.562968279965745\n",
      "Cosine_sim(1,4) : 0.3995974086160109\n"
     ]
    }
   ],
   "source": [
    "print(f'Cosine_sim(1,0) : {cosine_m(1, 0)}')\n",
    "print(f'Cosine_sim(1,1) : {cosine_m(1, 1)}')\n",
    "print(f'Cosine_sim(1,2) : {cosine_m(1, 2)}')\n",
    "print(f'Cosine_sim(1,3) : {cosine_m(1, 3)}')\n",
    "print(f'Cosine_sim(1,4) : {cosine_m(1, 4)}')"
   ]
  },
  {
   "cell_type": "markdown",
   "metadata": {},
   "source": [
    "## 2. Surprise 패키지 ver"
   ]
  },
  {
   "cell_type": "code",
   "execution_count": 9,
   "metadata": {},
   "outputs": [],
   "source": [
    "# surprise package 코사인 유사도 구현\n",
    "def cosine_s(u, v):\n",
    "    u_ratings = ui_metrix[u]\n",
    "    v_ratings = ui_metrix[v]\n",
    "    \n",
    "    u_items = set(u_ratings[u_ratings.notna()].index)\n",
    "    v_items = set(v_ratings[v_ratings.notna()].index)\n",
    "    commons = list(u_items & v_items)\n",
    "    \n",
    "    uv_dot = np.dot(u_ratings[commons], v_ratings[commons])\n",
    "    ab_length_multiply = math.sqrt(sum(i**2 for i in u_ratings[commons]))*math.sqrt(sum(i**2 for i in v_ratings[commons]))\n",
    "    \n",
    "    \n",
    "#     print(u_ratings[u_ratings.notna()].index)\n",
    "#     print(u_items)\n",
    "#     print(ui_metrix[u_ratings.notna()])\n",
    "#     print(commons)\n",
    "#     print(u_ratings.iloc[list(commons)])\n",
    "#     print(uv_dot/ab_length_multiply)\n",
    "\n",
    "    print(uv_dot)\n",
    "    print(ab_length_multiply)\n",
    "\n",
    "    return uv_dot/ab_length_multiply\n"
   ]
  },
  {
   "cell_type": "code",
   "execution_count": 10,
   "metadata": {},
   "outputs": [
    {
     "name": "stdout",
     "output_type": "stream",
     "text": [
      "48.0\n",
      "48.20853140264698\n",
      "Cosine_sim(1,0) : 0.9956743879852865\n",
      "86.5\n",
      "86.5\n",
      "Cosine_sim(1,1) : 1.0\n",
      "33.0\n",
      "40.82278775390039\n",
      "Cosine_sim(1,2) : 0.808372034730701\n",
      "17.0\n",
      "18.027756377319946\n",
      "Cosine_sim(1,3) : 0.9429903335828895\n",
      "25.0\n",
      "25.0\n",
      "Cosine_sim(1,4) : 1.0\n"
     ]
    }
   ],
   "source": [
    "print(f'Cosine_sim(1,0) : {cosine_s(1, 0)}')\n",
    "print(f'Cosine_sim(1,1) : {cosine_s(1, 1)}')\n",
    "print(f'Cosine_sim(1,2) : {cosine_s(1, 2)}')\n",
    "print(f'Cosine_sim(1,3) : {cosine_s(1, 3)}')\n",
    "print(f'Cosine_sim(1,4) : {cosine_s(1, 4)}')"
   ]
  },
  {
   "cell_type": "code",
   "execution_count": 11,
   "metadata": {},
   "outputs": [
    {
     "data": {
      "text/plain": [
       "48.20853140264698"
      ]
     },
     "execution_count": 11,
     "metadata": {},
     "output_type": "execute_result"
    }
   ],
   "source": [
    "math.sqrt(50+0.25)*math.sqrt(4.5**2+25+1)"
   ]
  },
  {
   "cell_type": "markdown",
   "metadata": {},
   "source": [
    "## 3. Surprise 패키지 확인"
   ]
  },
  {
   "cell_type": "code",
   "execution_count": 12,
   "metadata": {},
   "outputs": [],
   "source": [
    "from surprise import Reader, Dataset\n",
    "\n",
    "# 서프라이즈 패키지에게 rating의 최솟값, 최댓값 알려줌\n",
    "reader = Reader(rating_scale=(0,5))\n",
    "data = Dataset.load_from_df(raw_sample, reader)\n",
    "trainset = data.build_full_trainset()"
   ]
  },
  {
   "cell_type": "code",
   "execution_count": 13,
   "metadata": {},
   "outputs": [
    {
     "name": "stdout",
     "output_type": "stream",
     "text": [
      "Computing the cosine similarity matrix...\n",
      "Done computing similarity matrix.\n"
     ]
    },
    {
     "data": {
      "text/plain": [
       "<surprise.prediction_algorithms.knns.KNNBasic at 0x7f6a8c74a978>"
      ]
     },
     "execution_count": 13,
     "metadata": {},
     "output_type": "execute_result"
    }
   ],
   "source": [
    "from surprise.prediction_algorithms.knns import KNNBasic\n",
    "\n",
    "# 모델 셋팅\n",
    "sim_options = {'name': 'cosine',\n",
    "               'min_support' : 0,\n",
    "              'user_based': True}\n",
    "\n",
    "model = KNNBasic(k=2, min_k=1, sim_options=sim_options, verbose=True)\n",
    "\n",
    "model.fit(trainset)"
   ]
  },
  {
   "cell_type": "code",
   "execution_count": 14,
   "metadata": {},
   "outputs": [
    {
     "data": {
      "text/html": [
       "<div>\n",
       "<style scoped>\n",
       "    .dataframe tbody tr th:only-of-type {\n",
       "        vertical-align: middle;\n",
       "    }\n",
       "\n",
       "    .dataframe tbody tr th {\n",
       "        vertical-align: top;\n",
       "    }\n",
       "\n",
       "    .dataframe thead th {\n",
       "        text-align: right;\n",
       "    }\n",
       "</style>\n",
       "<table border=\"1\" class=\"dataframe\">\n",
       "  <thead>\n",
       "    <tr style=\"text-align: right;\">\n",
       "      <th></th>\n",
       "      <th>0</th>\n",
       "      <th>1</th>\n",
       "      <th>2</th>\n",
       "      <th>3</th>\n",
       "      <th>4</th>\n",
       "    </tr>\n",
       "  </thead>\n",
       "  <tbody>\n",
       "    <tr>\n",
       "      <td>0</td>\n",
       "      <td>1.000000</td>\n",
       "      <td>0.995674</td>\n",
       "      <td>0.805776</td>\n",
       "      <td>0.965908</td>\n",
       "      <td>0.998314</td>\n",
       "    </tr>\n",
       "    <tr>\n",
       "      <td>1</td>\n",
       "      <td>0.995674</td>\n",
       "      <td>1.000000</td>\n",
       "      <td>0.808372</td>\n",
       "      <td>0.942990</td>\n",
       "      <td>1.000000</td>\n",
       "    </tr>\n",
       "    <tr>\n",
       "      <td>2</td>\n",
       "      <td>0.805776</td>\n",
       "      <td>0.808372</td>\n",
       "      <td>1.000000</td>\n",
       "      <td>0.999969</td>\n",
       "      <td>1.000000</td>\n",
       "    </tr>\n",
       "    <tr>\n",
       "      <td>3</td>\n",
       "      <td>0.965908</td>\n",
       "      <td>0.942990</td>\n",
       "      <td>0.999969</td>\n",
       "      <td>1.000000</td>\n",
       "      <td>1.000000</td>\n",
       "    </tr>\n",
       "    <tr>\n",
       "      <td>4</td>\n",
       "      <td>0.998314</td>\n",
       "      <td>1.000000</td>\n",
       "      <td>1.000000</td>\n",
       "      <td>1.000000</td>\n",
       "      <td>1.000000</td>\n",
       "    </tr>\n",
       "  </tbody>\n",
       "</table>\n",
       "</div>"
      ],
      "text/plain": [
       "          0         1         2         3         4\n",
       "0  1.000000  0.995674  0.805776  0.965908  0.998314\n",
       "1  0.995674  1.000000  0.808372  0.942990  1.000000\n",
       "2  0.805776  0.808372  1.000000  0.999969  1.000000\n",
       "3  0.965908  0.942990  0.999969  1.000000  1.000000\n",
       "4  0.998314  1.000000  1.000000  1.000000  1.000000"
      ]
     },
     "execution_count": 14,
     "metadata": {},
     "output_type": "execute_result"
    }
   ],
   "source": [
    "pd.DataFrame(model.sim)"
   ]
  },
  {
   "cell_type": "markdown",
   "metadata": {},
   "source": [
    "# pearson 유사도"
   ]
  },
  {
   "cell_type": "markdown",
   "metadata": {},
   "source": [
    "## 1. 위키피디아 ver"
   ]
  },
  {
   "cell_type": "code",
   "execution_count": 15,
   "metadata": {},
   "outputs": [],
   "source": [
    "#  pearson 유사도 위키피디아 버전 구현\n",
    "def pearson_m(u, v):\n",
    "    u_ratings = ui_metrix[u]\n",
    "    v_ratings = ui_metrix[v]\n",
    "    \n",
    "    u_mean = raw_sample[raw_sample['userId'] == u]['rating'].mean()\n",
    "    v_mean = raw_sample[raw_sample['userId'] == v]['rating'].mean()\n",
    "    \n",
    "    u_items = set(u_ratings[u_ratings.notna()].index)\n",
    "    v_items = set(v_ratings[v_ratings.notna()].index)\n",
    "    commons = list(u_items & v_items)\n",
    "    \n",
    "    uv_dot = np.dot(u_ratings[commons] - u_mean, v_ratings[commons] - v_mean)\n",
    "    ab_length_multiply = math.sqrt(sum(i**2 for i in (u_ratings[commons]-u_mean)))*math.sqrt(sum(i**2 for i in (v_ratings[commons]-v_mean)))\n",
    "    \n",
    "#     print(sum([i**2 for i in (u_ratings[commons]-u_mean)]))\n",
    "#     print([i**2 for i in (v_ratings[commons]-v_mean)])\n",
    "#     print(u_ratings[u_ratings.notna()].index)\n",
    "#     print(u_items)\n",
    "#     print(ui_metrix[u_ratings.notna()])\n",
    "#     print(commons)\n",
    "#     print(u_ratings[commons]-u_mean)\n",
    "#     print(v_ratings[commons]-v_mean)\n",
    "#     print(u_mean)\n",
    "#     print(v_mean)\n",
    "    print(f'분자 : {uv_dot}')\n",
    "    print(f'분모 : {ab_length_multiply}')\n",
    "    \n",
    "    return uv_dot/ab_length_multiply if ab_length_multiply != 0 else 0"
   ]
  },
  {
   "cell_type": "code",
   "execution_count": 16,
   "metadata": {},
   "outputs": [
    {
     "name": "stdout",
     "output_type": "stream",
     "text": [
      "분자 : 11.34\n",
      "분모 : 11.45548340315676\n",
      "Pearson_sim(1,0) : 0.9899189410789128\n",
      "분자 : 14.3\n",
      "분모 : 14.300000000000002\n",
      "Pearson_sim(1,1) : 0.9999999999999999\n",
      "분자 : -2.9750000000000005\n",
      "분모 : 4.495761893161158\n",
      "Pearson_sim(1,2) : -0.6617343335120788\n",
      "분자 : 3.8875\n",
      "분모 : 4.711853403916552\n",
      "Pearson_sim(1,3) : 0.8250468906287833\n",
      "분자 : 0.30000000000000004\n",
      "분모 : 0.30000000000000004\n",
      "Pearson_sim(1,4) : 1.0\n"
     ]
    }
   ],
   "source": [
    "print(f'Pearson_sim(1,0) : {pearson_m(1, 0)}')\n",
    "print(f'Pearson_sim(1,1) : {pearson_m(1, 1)}')\n",
    "print(f'Pearson_sim(1,2) : {pearson_m(1, 2)}')\n",
    "print(f'Pearson_sim(1,3) : {pearson_m(1, 3)}')\n",
    "print(f'Pearson_sim(1,4) : {pearson_m(1, 4)}')"
   ]
  },
  {
   "cell_type": "code",
   "execution_count": 17,
   "metadata": {},
   "outputs": [
    {
     "data": {
      "text/plain": [
       "3.873366834170854"
      ]
     },
     "execution_count": 17,
     "metadata": {},
     "output_type": "execute_result"
    }
   ],
   "source": [
    "(1*(4.5-4.75) + 0.99*(4-3.6))/1.99 + 3.8"
   ]
  },
  {
   "cell_type": "markdown",
   "metadata": {},
   "source": [
    "## 2. Surprise 패키지 ver\n",
    "\n",
    "https://github.com/NicolasHug/Surprise/issues/224"
   ]
  },
  {
   "cell_type": "code",
   "execution_count": 18,
   "metadata": {},
   "outputs": [],
   "source": [
    "def rating(u, i):\n",
    "    # return r_ui\n",
    "    return next(r for (j, r) in trainset.ur[u] if j == i)\n",
    "\n",
    "def pearson_like_surprise(u, v):\n",
    "    # computation like in surprise\n",
    "\n",
    "    items_u = {i for (i,_ ) in trainset.ur[u]}\n",
    "    items_v = {i for (i,_ ) in trainset.ur[v]}\n",
    "    common = items_u & items_v\n",
    "    n = len(common)\n",
    "\n",
    "    sum_u = sum(rating(u, i) for i in common)\n",
    "    sum_v = sum(rating(v, i) for i in common)\n",
    "\n",
    "    num = n * sum((rating(u, i)) * (rating(v, i)) for i in common)\n",
    "\n",
    "    num -= sum_u * sum_v\n",
    "    a = n * sum(rating(u, i)**2 for i in common) - sum_u**2\n",
    "    b = n * sum(rating(v, i)**2 for i in common) - sum_v**2\n",
    "    denum = np.sqrt(a) * np.sqrt(b)\n",
    "    return num / denum\n",
    "\n",
    "# surprise package 제작자가 짠 코드 ver\n",
    "def pearson_std_formula(u, v):\n",
    "    # standard formula\n",
    "    mu = {}\n",
    "    for user, ratings in trainset.ur.items():\n",
    "        mu[user] = np.mean([r for (_, r) in ratings])\n",
    "\n",
    "    items_u = {i for (i,_ ) in trainset.ur[u]}\n",
    "    items_v = {i for (i,_ ) in trainset.ur[v]}\n",
    "    common = items_u & items_v\n",
    "\n",
    "    num = sum((rating(u, i) - mu[u]) * (rating(v, i) - mu[v])\n",
    "              for i in common)\n",
    "    a = sum((rating(u, i) - mu[u])**2 for i in common)\n",
    "    b = sum((rating(v, i) - mu[v])**2 for i in common)\n",
    "    denum = np.sqrt(a) * np.sqrt(b)\n",
    "    return num / denum"
   ]
  },
  {
   "cell_type": "code",
   "execution_count": 19,
   "metadata": {},
   "outputs": [
    {
     "name": "stdout",
     "output_type": "stream",
     "text": [
      "0.9933992677987827\n",
      "0.9899189410789128\n",
      "-\n",
      "1.0\n",
      "0.9999999999999999\n",
      "-\n",
      "-0.9607689228305226\n",
      "-0.6617343335120788\n",
      "-\n",
      "1.0\n",
      "0.8250468906287833\n",
      "-\n",
      "nan\n",
      "1.0\n",
      "-\n"
     ]
    }
   ],
   "source": [
    "user_0 = trainset.to_inner_uid(1)\n",
    "for other in range(0, 5):\n",
    "    other = trainset.to_inner_uid(other)\n",
    "    print(pearson_like_surprise(user_0, other)) # 패키지 제작자가 짠 코드\n",
    "#     print(algo.sim[user_0, other]) # 패키지 연산 결과\n",
    "    print(pearson_std_formula(user_0, other)) # 위키피디아 버전 피어슨 유사도\n",
    "    print('-')"
   ]
  },
  {
   "cell_type": "markdown",
   "metadata": {},
   "source": [
    "## 3. Surprise 패키지 확인"
   ]
  },
  {
   "cell_type": "code",
   "execution_count": 20,
   "metadata": {},
   "outputs": [],
   "source": [
    "from surprise import Reader, Dataset\n",
    "\n",
    "# 서프라이즈 패키지에게 rating의 최솟값, 최댓값 알려줌\n",
    "reader = Reader(rating_scale=(0,5))\n",
    "data = Dataset.load_from_df(raw_sample, reader)\n",
    "trainset = data.build_full_trainset()\n",
    "anti_set = trainset.build_anti_testset()"
   ]
  },
  {
   "cell_type": "code",
   "execution_count": 21,
   "metadata": {},
   "outputs": [
    {
     "name": "stdout",
     "output_type": "stream",
     "text": [
      "Estimating biases using als...\n",
      "Computing the pearson_baseline similarity matrix...\n",
      "Done computing similarity matrix.\n"
     ]
    },
    {
     "data": {
      "text/plain": [
       "<surprise.prediction_algorithms.knns.KNNBasic at 0x7f6a8b5df668>"
      ]
     },
     "execution_count": 21,
     "metadata": {},
     "output_type": "execute_result"
    }
   ],
   "source": [
    "# 모델 셋팅\n",
    "sim_options = {'name': 'pearson_baseline',\n",
    "              'min_support': 0,\n",
    "              'user_based': True}\n",
    "\n",
    "model = KNNBasic(k=2, min_k=0, sim_options=sim_options)\n",
    "\n",
    "model.fit(data.build_full_trainset())"
   ]
  },
  {
   "cell_type": "code",
   "execution_count": 22,
   "metadata": {},
   "outputs": [
    {
     "data": {
      "text/html": [
       "<div>\n",
       "<style scoped>\n",
       "    .dataframe tbody tr th:only-of-type {\n",
       "        vertical-align: middle;\n",
       "    }\n",
       "\n",
       "    .dataframe tbody tr th {\n",
       "        vertical-align: top;\n",
       "    }\n",
       "\n",
       "    .dataframe thead th {\n",
       "        text-align: right;\n",
       "    }\n",
       "</style>\n",
       "<table border=\"1\" class=\"dataframe\">\n",
       "  <thead>\n",
       "    <tr style=\"text-align: right;\">\n",
       "      <th></th>\n",
       "      <th>0</th>\n",
       "      <th>1</th>\n",
       "      <th>2</th>\n",
       "      <th>3</th>\n",
       "      <th>4</th>\n",
       "    </tr>\n",
       "  </thead>\n",
       "  <tbody>\n",
       "    <tr>\n",
       "      <td>0</td>\n",
       "      <td>1.000000</td>\n",
       "      <td>0.019417</td>\n",
       "      <td>-0.019394</td>\n",
       "      <td>0.014896</td>\n",
       "      <td>0.009491</td>\n",
       "    </tr>\n",
       "    <tr>\n",
       "      <td>1</td>\n",
       "      <td>0.019417</td>\n",
       "      <td>1.000000</td>\n",
       "      <td>-0.016870</td>\n",
       "      <td>0.009440</td>\n",
       "      <td>0.000000</td>\n",
       "    </tr>\n",
       "    <tr>\n",
       "      <td>2</td>\n",
       "      <td>-0.019394</td>\n",
       "      <td>-0.016870</td>\n",
       "      <td>1.000000</td>\n",
       "      <td>0.008442</td>\n",
       "      <td>0.000000</td>\n",
       "    </tr>\n",
       "    <tr>\n",
       "      <td>3</td>\n",
       "      <td>0.014896</td>\n",
       "      <td>0.009440</td>\n",
       "      <td>0.008442</td>\n",
       "      <td>1.000000</td>\n",
       "      <td>0.000000</td>\n",
       "    </tr>\n",
       "    <tr>\n",
       "      <td>4</td>\n",
       "      <td>0.009491</td>\n",
       "      <td>0.000000</td>\n",
       "      <td>0.000000</td>\n",
       "      <td>0.000000</td>\n",
       "      <td>1.000000</td>\n",
       "    </tr>\n",
       "  </tbody>\n",
       "</table>\n",
       "</div>"
      ],
      "text/plain": [
       "          0         1         2         3         4\n",
       "0  1.000000  0.019417 -0.019394  0.014896  0.009491\n",
       "1  0.019417  1.000000 -0.016870  0.009440  0.000000\n",
       "2 -0.019394 -0.016870  1.000000  0.008442  0.000000\n",
       "3  0.014896  0.009440  0.008442  1.000000  0.000000\n",
       "4  0.009491  0.000000  0.000000  0.000000  1.000000"
      ]
     },
     "execution_count": 22,
     "metadata": {},
     "output_type": "execute_result"
    }
   ],
   "source": [
    "pd.DataFrame(model.sim)"
   ]
  },
  {
   "cell_type": "code",
   "execution_count": null,
   "metadata": {},
   "outputs": [],
   "source": []
  },
  {
   "cell_type": "code",
   "execution_count": null,
   "metadata": {},
   "outputs": [],
   "source": []
  },
  {
   "cell_type": "code",
   "execution_count": null,
   "metadata": {},
   "outputs": [],
   "source": []
  },
  {
   "cell_type": "code",
   "execution_count": null,
   "metadata": {},
   "outputs": [],
   "source": []
  },
  {
   "cell_type": "code",
   "execution_count": null,
   "metadata": {},
   "outputs": [],
   "source": []
  },
  {
   "cell_type": "code",
   "execution_count": null,
   "metadata": {},
   "outputs": [],
   "source": []
  }
 ],
 "metadata": {
  "kernelspec": {
   "display_name": "Python 3",
   "language": "python",
   "name": "python3"
  },
  "language_info": {
   "codemirror_mode": {
    "name": "ipython",
    "version": 3
   },
   "file_extension": ".py",
   "mimetype": "text/x-python",
   "name": "python",
   "nbconvert_exporter": "python",
   "pygments_lexer": "ipython3",
   "version": "3.6.8"
  }
 },
 "nbformat": 4,
 "nbformat_minor": 2
}
